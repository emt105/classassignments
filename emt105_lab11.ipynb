{
  "cells": [
    {
      "cell_type": "markdown",
      "metadata": {
        "id": "Hzj6Y0ES2vaB"
      },
      "source": [
        "# Lab Exercise: SQL Analysis with Polars\n",
        "\n",
        "In this lab, you'll practice SQL queries using Polars' built-in SQL functionality. Complete each exercise by writing the appropriate SQL query."
      ]
    },
    {
      "cell_type": "code",
      "execution_count": 6,
      "metadata": {
        "id": "cUSyqOrc2vaB",
        "colab": {
          "base_uri": "https://localhost:8080/"
        },
        "outputId": "933dc7c9-1acd-415e-b4f2-f56a2fda7ed6"
      },
      "outputs": [
        {
          "output_type": "stream",
          "name": "stdout",
          "text": [
            "Setup complete! Tables available:\n",
            "naive plan: (run LazyFrame.explain(optimized=True) to see the optimized plan)\n",
            "\n",
            "DF [\"name\"]; PROJECT */1 COLUMNS\n"
          ]
        }
      ],
      "source": [
        "import polars as pl\n",
        "\n",
        "airlines = pl.read_csv(\n",
        "    \"https://raw.githubusercontent.com/philhetzel/opan5510-class11/refs/heads/main/data/nyc_airlines.csv\",\n",
        "    null_values=[\"NA\", \"\"],\n",
        ")\n",
        "\n",
        "airports = pl.read_csv(\n",
        "    \"https://raw.githubusercontent.com/philhetzel/opan5510-class11/refs/heads/main/data/nyc_airports.csv\",\n",
        "    null_values=[\"NA\", \"\"],\n",
        ")\n",
        "\n",
        "flights = pl.read_csv(\n",
        "    \"https://raw.githubusercontent.com/philhetzel/opan5510-class11/refs/heads/main/data/nyc_flights.csv\",\n",
        "    null_values=[\"NA\", \"\"],\n",
        "    infer_schema_length=10000,\n",
        "    schema_overrides={\n",
        "        \"arr_delay\": pl.Float64,\n",
        "        \"dep_delay\": pl.Float64,\n",
        "    },\n",
        ")\n",
        "\n",
        "planes = pl.read_csv(\n",
        "    \"https://raw.githubusercontent.com/philhetzel/opan5510-class11/refs/heads/main/data/nyc_planes.csv\",\n",
        "    null_values=[\"NA\", \"\"],\n",
        ")\n",
        "\n",
        "weather = pl.read_csv(\n",
        "    \"https://raw.githubusercontent.com/philhetzel/opan5510-class11/refs/heads/main/data/nyc_weather.csv\",\n",
        "    null_values=[\"NA\", \"\"],\n",
        "    infer_schema_length=10000,\n",
        "    schema_overrides={\n",
        "        \"temp\": pl.Float64,\n",
        "        \"dewp\": pl.Float64,\n",
        "        \"humid\": pl.Float64,\n",
        "        \"wind_speed\": pl.Float64,\n",
        "        \"wind_gust\": pl.Float64,\n",
        "        \"precip\": pl.Float64,\n",
        "        \"pressure\": pl.Float64,\n",
        "        \"visib\": pl.Float64,\n",
        "    },\n",
        ")\n",
        "\n",
        "ctx = pl.SQLContext()\n",
        "ctx.register(\"airlines\", airlines)\n",
        "ctx.register(\"airports\", airports)\n",
        "ctx.register(\"flights\", flights)\n",
        "ctx.register(\"planes\", planes)\n",
        "ctx.register(\"weather\", weather)\n",
        "\n",
        "print(\"Setup complete! Tables available:\")\n",
        "print(ctx.execute(\"SHOW TABLES\"))"
      ]
    },
    {
      "cell_type": "markdown",
      "metadata": {
        "id": "Gf_W24q72vaC"
      },
      "source": [
        "## Exercise 1: Basic Queries\n",
        "\n",
        "### 1.1 Find all unique carriers in the airlines table"
      ]
    },
    {
      "cell_type": "code",
      "execution_count": 12,
      "metadata": {
        "id": "sxu3BGCt2vaC",
        "colab": {
          "base_uri": "https://localhost:8080/"
        },
        "outputId": "06975041-9eab-4fef-dbbc-03dbd5fc0288"
      },
      "outputs": [
        {
          "output_type": "stream",
          "name": "stdout",
          "text": [
            "SQL Context created! Tables available:\n",
            "shape: (5, 1)\n",
            "┌──────────┐\n",
            "│ name     │\n",
            "│ ---      │\n",
            "│ str      │\n",
            "╞══════════╡\n",
            "│ airlines │\n",
            "│ airports │\n",
            "│ flights  │\n",
            "│ planes   │\n",
            "│ weather  │\n",
            "└──────────┘\n",
            "shape: (16, 1)\n",
            "┌─────────┐\n",
            "│ carrier │\n",
            "│ ---     │\n",
            "│ str     │\n",
            "╞═════════╡\n",
            "│ 9E      │\n",
            "│ AA      │\n",
            "│ AS      │\n",
            "│ B6      │\n",
            "│ DL      │\n",
            "│ …       │\n",
            "│ UA      │\n",
            "│ US      │\n",
            "│ VX      │\n",
            "│ WN      │\n",
            "│ YV      │\n",
            "└─────────┘\n"
          ]
        },
        {
          "output_type": "stream",
          "name": "stderr",
          "text": [
            "/tmp/ipython-input-566239198.py:1: DeprecationWarning: The argument `eager_execution` for `SQLContext.__init__` is deprecated. It has been renamed to `eager`.\n",
            "  ctx = pl.SQLContext(\n"
          ]
        }
      ],
      "source": [
        "ctx = pl.SQLContext(\n",
        "    airlines=airlines,\n",
        "    airports=airports,\n",
        "    flights=flights,\n",
        "    planes=planes,\n",
        "    weather=weather,\n",
        "    eager_execution=True\n",
        ")\n",
        "\n",
        "print(\"SQL Context created! Tables available:\")\n",
        "print(ctx.execute(\"SHOW TABLES\"))\n",
        "\n",
        "result = ctx.execute(\"\"\"\n",
        "SELECT DISTINCT carrier\n",
        "FROM airlines\n",
        "\"\"\")\n",
        "\n",
        "print(result)"
      ]
    },
    {
      "cell_type": "markdown",
      "metadata": {
        "id": "idt7BAL42vaC"
      },
      "source": [
        "### 1.2 Find the top 10 destinations by number of flights"
      ]
    },
    {
      "cell_type": "code",
      "execution_count": 13,
      "metadata": {
        "id": "j7hfGLt02vaC",
        "colab": {
          "base_uri": "https://localhost:8080/"
        },
        "outputId": "2ea2963c-a625-422f-cece-253fcf19e25c"
      },
      "outputs": [
        {
          "output_type": "stream",
          "name": "stdout",
          "text": [
            "shape: (10, 2)\n",
            "┌──────┬─────────────┐\n",
            "│ dest ┆ num_flights │\n",
            "│ ---  ┆ ---         │\n",
            "│ str  ┆ u32         │\n",
            "╞══════╪═════════════╡\n",
            "│ ORD  ┆ 17283       │\n",
            "│ ATL  ┆ 17215       │\n",
            "│ LAX  ┆ 16174       │\n",
            "│ BOS  ┆ 15508       │\n",
            "│ MCO  ┆ 14082       │\n",
            "│ CLT  ┆ 14064       │\n",
            "│ SFO  ┆ 13331       │\n",
            "│ FLL  ┆ 12055       │\n",
            "│ MIA  ┆ 11728       │\n",
            "│ DCA  ┆ 9705        │\n",
            "└──────┴─────────────┘\n"
          ]
        }
      ],
      "source": [
        "result = ctx.execute(\"\"\"\n",
        "SELECT dest, COUNT(*) AS num_flights\n",
        "FROM flights\n",
        "GROUP BY dest\n",
        "ORDER BY num_flights DESC\n",
        "LIMIT 10\n",
        "\"\"\")\n",
        "\n",
        "print(result)"
      ]
    },
    {
      "cell_type": "markdown",
      "metadata": {
        "id": "KQ4ta5iO2vaD"
      },
      "source": [
        "### 1.3 Find all flights that departed more than 2 hours late (120 minutes)"
      ]
    },
    {
      "cell_type": "code",
      "execution_count": 14,
      "metadata": {
        "id": "wOkbekh-2vaD",
        "colab": {
          "base_uri": "https://localhost:8080/"
        },
        "outputId": "9c94d663-a261-42b7-eab9-465cbe8c30e6"
      },
      "outputs": [
        {
          "output_type": "stream",
          "name": "stdout",
          "text": [
            "shape: (9_723, 19)\n",
            "┌──────┬───────┬─────┬──────────┬───┬──────────┬──────┬────────┬──────────────────────┐\n",
            "│ year ┆ month ┆ day ┆ dep_time ┆ … ┆ distance ┆ hour ┆ minute ┆ time_hour            │\n",
            "│ ---  ┆ ---   ┆ --- ┆ ---      ┆   ┆ ---      ┆ ---  ┆ ---    ┆ ---                  │\n",
            "│ i64  ┆ i64   ┆ i64 ┆ i64      ┆   ┆ i64      ┆ i64  ┆ i64    ┆ str                  │\n",
            "╞══════╪═══════╪═════╪══════════╪═══╪══════════╪══════╪════════╪══════════════════════╡\n",
            "│ 2013 ┆ 1     ┆ 1   ┆ 848      ┆ … ┆ 184      ┆ 18   ┆ 35     ┆ 2013-01-01T23:00:00Z │\n",
            "│ 2013 ┆ 1     ┆ 1   ┆ 957      ┆ … ┆ 200      ┆ 7    ┆ 33     ┆ 2013-01-01T12:00:00Z │\n",
            "│ 2013 ┆ 1     ┆ 1   ┆ 1114     ┆ … ┆ 1416     ┆ 9    ┆ 0      ┆ 2013-01-01T14:00:00Z │\n",
            "│ 2013 ┆ 1     ┆ 1   ┆ 1540     ┆ … ┆ 1598     ┆ 13   ┆ 38     ┆ 2013-01-01T18:00:00Z │\n",
            "│ 2013 ┆ 1     ┆ 1   ┆ 1815     ┆ … ┆ 1134     ┆ 13   ┆ 25     ┆ 2013-01-01T18:00:00Z │\n",
            "│ …    ┆ …     ┆ …   ┆ …        ┆ … ┆ …        ┆ …    ┆ …      ┆ …                    │\n",
            "│ 2013 ┆ 9     ┆ 30  ┆ 1823     ┆ … ┆ 765      ┆ 15   ┆ 45     ┆ 2013-09-30T19:00:00Z │\n",
            "│ 2013 ┆ 9     ┆ 30  ┆ 1951     ┆ … ┆ 708      ┆ 16   ┆ 49     ┆ 2013-09-30T20:00:00Z │\n",
            "│ 2013 ┆ 9     ┆ 30  ┆ 2053     ┆ … ┆ 746      ┆ 18   ┆ 15     ┆ 2013-09-30T22:00:00Z │\n",
            "│ 2013 ┆ 9     ┆ 30  ┆ 2159     ┆ … ┆ 301      ┆ 18   ┆ 45     ┆ 2013-09-30T22:00:00Z │\n",
            "│ 2013 ┆ 9     ┆ 30  ┆ 2235     ┆ … ┆ 944      ┆ 20   ┆ 1      ┆ 2013-10-01T00:00:00Z │\n",
            "└──────┴───────┴─────┴──────────┴───┴──────────┴──────┴────────┴──────────────────────┘\n"
          ]
        }
      ],
      "source": [
        "result = ctx.execute(\"\"\"\n",
        "SELECT *\n",
        "FROM flights\n",
        "WHERE dep_delay > 120\n",
        "\"\"\")\n",
        "\n",
        "print(result)"
      ]
    },
    {
      "cell_type": "markdown",
      "metadata": {
        "id": "cIhR-AMR2vaD"
      },
      "source": [
        "## Exercise 2: Aggregation\n",
        "\n",
        "### 2.1 Calculate the average departure delay for each origin airport"
      ]
    },
    {
      "cell_type": "code",
      "execution_count": 15,
      "metadata": {
        "id": "q3ZvU-Em2vaD",
        "colab": {
          "base_uri": "https://localhost:8080/"
        },
        "outputId": "bc8cd5a2-725f-4f14-bbd2-e090bd3e9729"
      },
      "outputs": [
        {
          "output_type": "stream",
          "name": "stdout",
          "text": [
            "shape: (3, 2)\n",
            "┌────────┬───────────────┐\n",
            "│ origin ┆ avg_dep_delay │\n",
            "│ ---    ┆ ---           │\n",
            "│ str    ┆ f64           │\n",
            "╞════════╪═══════════════╡\n",
            "│ EWR    ┆ 15.107954     │\n",
            "│ JFK    ┆ 12.112159     │\n",
            "│ LGA    ┆ 10.346876     │\n",
            "└────────┴───────────────┘\n"
          ]
        }
      ],
      "source": [
        "# Write your SQL query here\n",
        "result = ctx.execute(\"\"\"\n",
        "SELECT origin, AVG(dep_delay) AS avg_dep_delay\n",
        "FROM flights\n",
        "GROUP BY origin\n",
        "\"\"\")\n",
        "\n",
        "print(result)\n"
      ]
    },
    {
      "cell_type": "markdown",
      "metadata": {
        "id": "zJg_GZsL2vaD"
      },
      "source": [
        "### 2.2 Find the busiest month of the year\n",
        "\n",
        "Count the number of flights per month and find which month has the most flights."
      ]
    },
    {
      "cell_type": "code",
      "execution_count": 16,
      "metadata": {
        "id": "Tv7MJ__Q2vaD",
        "colab": {
          "base_uri": "https://localhost:8080/"
        },
        "outputId": "bf9bd236-0f62-4979-eb67-c7ad8df58ea5"
      },
      "outputs": [
        {
          "output_type": "stream",
          "name": "stdout",
          "text": [
            "shape: (1, 2)\n",
            "┌───────┬─────────────┐\n",
            "│ month ┆ num_flights │\n",
            "│ ---   ┆ ---         │\n",
            "│ i64   ┆ u32         │\n",
            "╞═══════╪═════════════╡\n",
            "│ 7     ┆ 29425       │\n",
            "└───────┴─────────────┘\n"
          ]
        }
      ],
      "source": [
        "# First, let's check what columns are available\n",
        "result = ctx.execute(\"\"\"\n",
        "SELECT month, COUNT(*) AS num_flights\n",
        "FROM flights\n",
        "GROUP BY month\n",
        "ORDER BY num_flights DESC\n",
        "LIMIT 1\n",
        "\"\"\")\n",
        "\n",
        "print(result)"
      ]
    },
    {
      "cell_type": "markdown",
      "metadata": {
        "id": "mLdY-rl32vaE"
      },
      "source": [
        "### 2.3 Calculate the on-time performance rate for each carrier\n",
        "\n",
        "Consider a flight on-time if the departure delay is <= 15 minutes."
      ]
    },
    {
      "cell_type": "code",
      "execution_count": 17,
      "metadata": {
        "id": "HGgqASLH2vaE",
        "colab": {
          "base_uri": "https://localhost:8080/"
        },
        "outputId": "8fa8c083-54b7-4d96-dc57-eb28895f88dc"
      },
      "outputs": [
        {
          "output_type": "stream",
          "name": "stdout",
          "text": [
            "shape: (20, 5)\n",
            "┌────────┬────────┬──────┬───────────┬─────────┐\n",
            "│ flight ┆ origin ┆ dest ┆ dep_delay ┆ status  │\n",
            "│ ---    ┆ ---    ┆ ---  ┆ ---       ┆ ---     │\n",
            "│ i64    ┆ str    ┆ str  ┆ f64       ┆ str     │\n",
            "╞════════╪════════╪══════╪═══════════╪═════════╡\n",
            "│ 1545   ┆ EWR    ┆ IAH  ┆ 2.0       ┆ On-Time │\n",
            "│ 1714   ┆ LGA    ┆ IAH  ┆ 4.0       ┆ On-Time │\n",
            "│ 1141   ┆ JFK    ┆ MIA  ┆ 2.0       ┆ On-Time │\n",
            "│ 725    ┆ JFK    ┆ BQN  ┆ -1.0      ┆ On-Time │\n",
            "│ 461    ┆ LGA    ┆ ATL  ┆ -6.0      ┆ On-Time │\n",
            "│ …      ┆ …      ┆ …    ┆ …         ┆ …       │\n",
            "│ 1806   ┆ JFK    ┆ BOS  ┆ 0.0       ┆ On-Time │\n",
            "│ 1187   ┆ EWR    ┆ LAS  ┆ -1.0      ┆ On-Time │\n",
            "│ 371    ┆ LGA    ┆ FLL  ┆ 0.0       ┆ On-Time │\n",
            "│ 4650   ┆ LGA    ┆ ATL  ┆ 0.0       ┆ On-Time │\n",
            "│ 343    ┆ EWR    ┆ PBI  ┆ 1.0       ┆ On-Time │\n",
            "└────────┴────────┴──────┴───────────┴─────────┘\n"
          ]
        }
      ],
      "source": [
        "# Write your SQL query here\n",
        "result = ctx.execute(\"\"\"\n",
        "SELECT\n",
        "    flight,\n",
        "    origin,\n",
        "    dest,\n",
        "    dep_delay,\n",
        "    CASE\n",
        "        WHEN dep_delay <= 15 THEN 'On-Time'\n",
        "        ELSE 'Delayed'\n",
        "    END AS status\n",
        "FROM flights\n",
        "LIMIT 20\n",
        "\"\"\")\n",
        "\n",
        "print(result)"
      ]
    },
    {
      "cell_type": "markdown",
      "metadata": {
        "id": "ldSPXAKt2vaE"
      },
      "source": [
        "## Exercise 3: Joins\n",
        "\n",
        "### 3.1 List all flights with their airline names (not just carrier codes)\n",
        "\n",
        "Show the first 20 flights with carrier code, airline name, flight number, origin, and destination."
      ]
    },
    {
      "cell_type": "code",
      "execution_count": 19,
      "metadata": {
        "id": "PKiUE4DN2vaE",
        "colab": {
          "base_uri": "https://localhost:8080/"
        },
        "outputId": "d21181e3-e516-4e06-c6d8-e90bc35c41e2"
      },
      "outputs": [
        {
          "output_type": "stream",
          "name": "stdout",
          "text": [
            "shape: (20, 5)\n",
            "┌──────────────┬────────────────────────┬───────────────┬────────┬──────┐\n",
            "│ carrier_code ┆ airline_name           ┆ flight_number ┆ origin ┆ dest │\n",
            "│ ---          ┆ ---                    ┆ ---           ┆ ---    ┆ ---  │\n",
            "│ str          ┆ str                    ┆ i64           ┆ str    ┆ str  │\n",
            "╞══════════════╪════════════════════════╪═══════════════╪════════╪══════╡\n",
            "│ UA           ┆ United Air Lines Inc.  ┆ 1545          ┆ EWR    ┆ IAH  │\n",
            "│ UA           ┆ United Air Lines Inc.  ┆ 1714          ┆ LGA    ┆ IAH  │\n",
            "│ AA           ┆ American Airlines Inc. ┆ 1141          ┆ JFK    ┆ MIA  │\n",
            "│ B6           ┆ JetBlue Airways        ┆ 725           ┆ JFK    ┆ BQN  │\n",
            "│ DL           ┆ Delta Air Lines Inc.   ┆ 461           ┆ LGA    ┆ ATL  │\n",
            "│ …            ┆ …                      ┆ …             ┆ …      ┆ …    │\n",
            "│ B6           ┆ JetBlue Airways        ┆ 1806          ┆ JFK    ┆ BOS  │\n",
            "│ UA           ┆ United Air Lines Inc.  ┆ 1187          ┆ EWR    ┆ LAS  │\n",
            "│ B6           ┆ JetBlue Airways        ┆ 371           ┆ LGA    ┆ FLL  │\n",
            "│ MQ           ┆ Envoy Air              ┆ 4650          ┆ LGA    ┆ ATL  │\n",
            "│ B6           ┆ JetBlue Airways        ┆ 343           ┆ EWR    ┆ PBI  │\n",
            "└──────────────┴────────────────────────┴───────────────┴────────┴──────┘\n"
          ]
        }
      ],
      "source": [
        "# Write your SQL query here\n",
        "result = ctx.execute(\"\"\"\n",
        "SELECT\n",
        "    f.carrier AS carrier_code,\n",
        "    a.name AS airline_name,\n",
        "    f.flight AS flight_number,\n",
        "    f.origin,\n",
        "    f.dest\n",
        "FROM flights f\n",
        "JOIN airlines a\n",
        "  ON f.carrier = a.carrier\n",
        "LIMIT 20\n",
        "\"\"\")\n",
        "\n",
        "print(result)"
      ]
    },
    {
      "cell_type": "markdown",
      "metadata": {
        "id": "56cFWFKn2vaE"
      },
      "source": [
        "### 3.2 Find the average age of planes for each carrier\n",
        "\n",
        "Hint: The planes table has a `year` column for manufacture year. Calculate age based on 2013."
      ]
    },
    {
      "cell_type": "code",
      "execution_count": 20,
      "metadata": {
        "id": "ddCey8E92vaE",
        "colab": {
          "base_uri": "https://localhost:8080/"
        },
        "outputId": "efffb507-502c-4465-e925-c8a6ae36d256"
      },
      "outputs": [
        {
          "output_type": "stream",
          "name": "stdout",
          "text": [
            "shape: (16, 2)\n",
            "┌─────────┬───────────┐\n",
            "│ carrier ┆ avg_age   │\n",
            "│ ---     ┆ ---       │\n",
            "│ str     ┆ f64       │\n",
            "╞═════════╪═══════════╡\n",
            "│ MQ      ┆ 35.319    │\n",
            "│ AA      ┆ 25.869426 │\n",
            "│ DL      ┆ 16.372169 │\n",
            "│ UA      ┆ 13.207691 │\n",
            "│ FL      ┆ 11.385829 │\n",
            "│ …       ┆ …         │\n",
            "│ B6      ┆ 6.686702  │\n",
            "│ F9      ┆ 4.87874   │\n",
            "│ VX      ┆ 4.473643  │\n",
            "│ AS      ┆ 3.33662   │\n",
            "│ HA      ┆ 1.548387  │\n",
            "└─────────┴───────────┘\n"
          ]
        }
      ],
      "source": [
        "# Write your SQL query here\n",
        "result = ctx.execute(\"\"\"\n",
        "SELECT\n",
        "    f.carrier,\n",
        "    AVG(2013 - p.year) AS avg_age\n",
        "FROM flights f\n",
        "JOIN planes p\n",
        "  ON f.tailnum = p.tailnum\n",
        "WHERE p.year IS NOT NULL\n",
        "GROUP BY f.carrier\n",
        "ORDER BY avg_age DESC\n",
        "\"\"\")\n",
        "\n",
        "print(result)"
      ]
    },
    {
      "cell_type": "markdown",
      "metadata": {
        "id": "E6HH6sVW2vaE"
      },
      "source": [
        "### 3.3 Find flights that experienced both departure delays and bad weather\n",
        "\n",
        "Join flights with weather data and find flights where departure delay > 30 minutes and either wind_speed > 20 or precip > 0.1"
      ]
    },
    {
      "cell_type": "code",
      "execution_count": 21,
      "metadata": {
        "id": "cYcnWXi_2vaE",
        "colab": {
          "base_uri": "https://localhost:8080/"
        },
        "outputId": "f0ff4067-63cd-4aba-ec7a-72b2d0641ed3"
      },
      "outputs": [
        {
          "output_type": "stream",
          "name": "stdout",
          "text": [
            "shape: (20, 7)\n",
            "┌────────┬─────────┬────────┬──────┬───────────┬────────────┬────────┐\n",
            "│ flight ┆ carrier ┆ origin ┆ dest ┆ dep_delay ┆ wind_speed ┆ precip │\n",
            "│ ---    ┆ ---     ┆ ---    ┆ ---  ┆ ---       ┆ ---        ┆ ---    │\n",
            "│ i64    ┆ str     ┆ str    ┆ str  ┆ f64       ┆ f64        ┆ f64    │\n",
            "╞════════╪═════════╪════════╪══════╪═══════════╪════════════╪════════╡\n",
            "│ 21     ┆ B6      ┆ JFK    ┆ TPA  ┆ 47.0      ┆ 21.86482   ┆ 0.0    │\n",
            "│ 199    ┆ B6      ┆ JFK    ┆ LAS  ┆ 116.0     ┆ 21.86482   ┆ 0.0    │\n",
            "│ 4090   ┆ EV      ┆ EWR    ┆ JAX  ┆ 39.0      ┆ 20.71404   ┆ 0.0    │\n",
            "│ 4231   ┆ EV      ┆ EWR    ┆ IAD  ┆ 40.0      ┆ 24.16638   ┆ 0.0    │\n",
            "│ 1010   ┆ B6      ┆ JFK    ┆ BOS  ┆ 33.0      ┆ 20.71404   ┆ 0.0    │\n",
            "│ …      ┆ …       ┆ …      ┆ …    ┆ …         ┆ …          ┆ …      │\n",
            "│ 3368   ┆ 9E      ┆ JFK    ┆ PIT  ┆ 35.0      ┆ 20.71404   ┆ 0.0    │\n",
            "│ 1465   ┆ DL      ┆ JFK    ┆ SFO  ┆ 35.0      ┆ 20.71404   ┆ 0.0    │\n",
            "│ 21     ┆ AA      ┆ JFK    ┆ LAX  ┆ 41.0      ┆ 20.71404   ┆ 0.0    │\n",
            "│ 87     ┆ B6      ┆ JFK    ┆ SLC  ┆ 96.0      ┆ 20.71404   ┆ 0.0    │\n",
            "│ 3373   ┆ 9E      ┆ JFK    ┆ RDU  ┆ 100.0     ┆ 20.71404   ┆ 0.0    │\n",
            "└────────┴─────────┴────────┴──────┴───────────┴────────────┴────────┘\n"
          ]
        }
      ],
      "source": [
        "# First, explore the weather table structure\n",
        "result = ctx.execute(\"\"\"\n",
        "SELECT\n",
        "    f.flight,\n",
        "    f.carrier,\n",
        "    f.origin,\n",
        "    f.dest,\n",
        "    f.dep_delay,\n",
        "    w.wind_speed,\n",
        "    w.precip\n",
        "FROM flights f\n",
        "JOIN weather w\n",
        "  ON f.origin = w.origin\n",
        " AND f.time_hour = w.time_hour\n",
        "WHERE f.dep_delay > 30\n",
        "  AND (w.wind_speed > 20 OR w.precip > 0.1)\n",
        "LIMIT 20\n",
        "\"\"\")\n",
        "\n",
        "print(result)"
      ]
    },
    {
      "cell_type": "markdown",
      "metadata": {
        "id": "pWuGN-ZE2vaE"
      },
      "source": [
        "## Exercise 4: Advanced Queries\n",
        "\n",
        "### 4.1 Find the most popular aircraft types (by number of flights)\n",
        "\n",
        "Join flights with planes to get manufacturer and model information. Show top 10."
      ]
    },
    {
      "cell_type": "code",
      "execution_count": 23,
      "metadata": {
        "id": "hr3eQnZV2vaE",
        "colab": {
          "base_uri": "https://localhost:8080/"
        },
        "outputId": "80617d6d-6c9b-47d4-bce3-37d832ac563a"
      },
      "outputs": [
        {
          "output_type": "stream",
          "name": "stdout",
          "text": [
            "Polars - Flights with airline names:\n",
            "shape: (10, 5)\n",
            "┌─────────┬──────────────────────────┬────────┬────────┬──────┐\n",
            "│ carrier ┆ name                     ┆ flight ┆ origin ┆ dest │\n",
            "│ ---     ┆ ---                      ┆ ---    ┆ ---    ┆ ---  │\n",
            "│ str     ┆ str                      ┆ i64    ┆ str    ┆ str  │\n",
            "╞═════════╪══════════════════════════╪════════╪════════╪══════╡\n",
            "│ UA      ┆ United Air Lines Inc.    ┆ 1545   ┆ EWR    ┆ IAH  │\n",
            "│ UA      ┆ United Air Lines Inc.    ┆ 1714   ┆ LGA    ┆ IAH  │\n",
            "│ AA      ┆ American Airlines Inc.   ┆ 1141   ┆ JFK    ┆ MIA  │\n",
            "│ B6      ┆ JetBlue Airways          ┆ 725    ┆ JFK    ┆ BQN  │\n",
            "│ DL      ┆ Delta Air Lines Inc.     ┆ 461    ┆ LGA    ┆ ATL  │\n",
            "│ UA      ┆ United Air Lines Inc.    ┆ 1696   ┆ EWR    ┆ ORD  │\n",
            "│ B6      ┆ JetBlue Airways          ┆ 507    ┆ EWR    ┆ FLL  │\n",
            "│ EV      ┆ ExpressJet Airlines Inc. ┆ 5708   ┆ LGA    ┆ IAD  │\n",
            "│ B6      ┆ JetBlue Airways          ┆ 79     ┆ JFK    ┆ MCO  │\n",
            "│ AA      ┆ American Airlines Inc.   ┆ 301    ┆ LGA    ┆ ORD  │\n",
            "└─────────┴──────────────────────────┴────────┴────────┴──────┘\n",
            "\n",
            "SQL - Flights with airline names:\n",
            "shape: (10, 5)\n",
            "┌─────────┬──────────────────────────┬────────┬────────┬──────┐\n",
            "│ carrier ┆ name                     ┆ flight ┆ origin ┆ dest │\n",
            "│ ---     ┆ ---                      ┆ ---    ┆ ---    ┆ ---  │\n",
            "│ str     ┆ str                      ┆ i64    ┆ str    ┆ str  │\n",
            "╞═════════╪══════════════════════════╪════════╪════════╪══════╡\n",
            "│ UA      ┆ United Air Lines Inc.    ┆ 1545   ┆ EWR    ┆ IAH  │\n",
            "│ UA      ┆ United Air Lines Inc.    ┆ 1714   ┆ LGA    ┆ IAH  │\n",
            "│ AA      ┆ American Airlines Inc.   ┆ 1141   ┆ JFK    ┆ MIA  │\n",
            "│ B6      ┆ JetBlue Airways          ┆ 725    ┆ JFK    ┆ BQN  │\n",
            "│ DL      ┆ Delta Air Lines Inc.     ┆ 461    ┆ LGA    ┆ ATL  │\n",
            "│ UA      ┆ United Air Lines Inc.    ┆ 1696   ┆ EWR    ┆ ORD  │\n",
            "│ B6      ┆ JetBlue Airways          ┆ 507    ┆ EWR    ┆ FLL  │\n",
            "│ EV      ┆ ExpressJet Airlines Inc. ┆ 5708   ┆ LGA    ┆ IAD  │\n",
            "│ B6      ┆ JetBlue Airways          ┆ 79     ┆ JFK    ┆ MCO  │\n",
            "│ AA      ┆ American Airlines Inc.   ┆ 301    ┆ LGA    ┆ ORD  │\n",
            "└─────────┴──────────────────────────┴────────┴────────┴──────┘\n"
          ]
        }
      ],
      "source": [
        "flights_airlines_polars = (\n",
        "    flights\n",
        "    .join(airlines, on=\"carrier\", how=\"left\")\n",
        "    .select([\"carrier\", \"name\", \"flight\", \"origin\", \"dest\"])\n",
        "    .head(10)\n",
        ")\n",
        "print(\"Polars - Flights with airline names:\")\n",
        "print(flights_airlines_polars)\n",
        "print()\n",
        "\n",
        "result = ctx.execute(\"\"\"\n",
        "SELECT\n",
        "    f.carrier,\n",
        "    a.name,\n",
        "    f.flight,\n",
        "    f.origin,\n",
        "    f.dest\n",
        "FROM flights f\n",
        "LEFT JOIN airlines a ON f.carrier = a.carrier\n",
        "LIMIT 10\n",
        "\"\"\")\n",
        "print(\"SQL - Flights with airline names:\")\n",
        "print(result)"
      ]
    },
    {
      "cell_type": "code",
      "source": [
        "result = ctx.execute(\"\"\"\n",
        "SELECT\n",
        "    f.flight,\n",
        "    a.name AS airline_name,\n",
        "    f.origin,\n",
        "    ap.name AS destination_airport,\n",
        "    f.dep_delay\n",
        "FROM flights f\n",
        "LEFT JOIN airlines a ON f.carrier = a.carrier\n",
        "LEFT JOIN airports ap ON f.dest = ap.faa\n",
        "WHERE f.dep_delay > 60\n",
        "ORDER BY f.dep_delay DESC\n",
        "LIMIT 10\n",
        "\"\"\")\n",
        "print(\"SQL - Flights with airline and destination airport info:\")\n",
        "print(result)"
      ],
      "metadata": {
        "colab": {
          "base_uri": "https://localhost:8080/"
        },
        "id": "f47u9Y2hItVK",
        "outputId": "614c1c9e-ec77-4a73-a8ee-a56a5a49328f"
      },
      "execution_count": 24,
      "outputs": [
        {
          "output_type": "stream",
          "name": "stdout",
          "text": [
            "SQL - Flights with airline and destination airport info:\n",
            "shape: (10, 5)\n",
            "┌────────┬────────────────────────┬────────┬─────────────────────────────────┬───────────┐\n",
            "│ flight ┆ airline_name           ┆ origin ┆ destination_airport             ┆ dep_delay │\n",
            "│ ---    ┆ ---                    ┆ ---    ┆ ---                             ┆ ---       │\n",
            "│ i64    ┆ str                    ┆ str    ┆ str                             ┆ f64       │\n",
            "╞════════╪════════════════════════╪════════╪═════════════════════════════════╪═══════════╡\n",
            "│ 51     ┆ Hawaiian Airlines Inc. ┆ JFK    ┆ Honolulu Intl                   ┆ 1301.0    │\n",
            "│ 3535   ┆ Envoy Air              ┆ JFK    ┆ Port Columbus Intl              ┆ 1137.0    │\n",
            "│ 3695   ┆ Envoy Air              ┆ EWR    ┆ Chicago Ohare Intl              ┆ 1126.0    │\n",
            "│ 177    ┆ American Airlines Inc. ┆ JFK    ┆ San Francisco Intl              ┆ 1014.0    │\n",
            "│ 3075   ┆ Envoy Air              ┆ JFK    ┆ Cincinnati Northern Kentucky I… ┆ 1005.0    │\n",
            "│ 2391   ┆ Delta Air Lines Inc.   ┆ JFK    ┆ Tampa Intl                      ┆ 960.0     │\n",
            "│ 2119   ┆ Delta Air Lines Inc.   ┆ LGA    ┆ Minneapolis St Paul Intl        ┆ 911.0     │\n",
            "│ 2007   ┆ Delta Air Lines Inc.   ┆ JFK    ┆ Portland Intl                   ┆ 899.0     │\n",
            "│ 2047   ┆ Delta Air Lines Inc.   ┆ LGA    ┆ Hartsfield Jackson Atlanta Int… ┆ 898.0     │\n",
            "│ 172    ┆ American Airlines Inc. ┆ EWR    ┆ Miami Intl                      ┆ 896.0     │\n",
            "└────────┴────────────────────────┴────────┴─────────────────────────────────┴───────────┘\n"
          ]
        }
      ]
    },
    {
      "cell_type": "markdown",
      "metadata": {
        "id": "bpGsbjwK2vaE"
      },
      "source": [
        "### 4.2 Analyze route performance\n",
        "\n",
        "Find the top 10 routes (origin-destination pairs) with:\n",
        "- Total number of flights\n",
        "- Average departure delay\n",
        "- Percentage of flights delayed more than 30 minutes\n",
        "\n",
        "Include airport names, not just codes."
      ]
    },
    {
      "cell_type": "code",
      "execution_count": null,
      "metadata": {
        "id": "pOkSnoKD2vaE"
      },
      "outputs": [],
      "source": [
        "result = ctx.execute(\"\"\"\n",
        "SELECT\n",
        "    f.origin,\n",
        "    ao.name AS origin_name,\n",
        "    f.dest,\n",
        "    ad.name AS dest_name,\n",
        "    COUNT(*) AS total_flights,\n",
        "    AVG(f.dep_delay) AS avg_dep_delay,\n",
        "    100.0 * SUM(CASE WHEN f.dep_delay > 30 THEN 1 ELSE 0 END) / COUNT(*)\n",
        "        AS pct_delayed_over_30\n",
        "FROM flights f\n",
        "JOIN airports ao ON f.origin = ao.faa\n",
        "JOIN airports ad ON f.dest = ad.faa\n",
        "GROUP BY f.origin, ao.name, f.dest, ad.name\n",
        "ORDER BY total_flights DESC\n",
        "LIMIT 10\n",
        "\"\"\")\n",
        "\n",
        "print(result)"
      ]
    },
    {
      "cell_type": "code",
      "execution_count": null,
      "metadata": {
        "id": "-LxjIYot2vaF"
      },
      "outputs": [],
      "source": [
        "# Write your SQL query here\n",
        "result = ctx.execute(\"\"\"\n",
        "-- Your query here\n",
        "\"\"\")\n",
        "\n",
        "# print(result)"
      ]
    },
    {
      "cell_type": "markdown",
      "metadata": {
        "id": "cnOM13eT2vaF"
      },
      "source": [
        "## Bonus: Compare with Polars\n",
        "\n",
        "### Choose one of the queries above and implement it using Polars\n",
        "\n",
        "This will help you understand the relationship between SQL and Polars operations."
      ]
    },
    {
      "cell_type": "code",
      "execution_count": 25,
      "metadata": {
        "id": "ey8xjb0d2vaF",
        "colab": {
          "base_uri": "https://localhost:8080/"
        },
        "outputId": "b14b0f7e-f450-4a53-b54d-70b85095eddf"
      },
      "outputs": [
        {
          "output_type": "stream",
          "name": "stdout",
          "text": [
            "shape: (10, 5)\n",
            "┌────────┬────────────────────────┬────────┬─────────────────────────────────┬───────────┐\n",
            "│ flight ┆ airline_name           ┆ origin ┆ destination_airport             ┆ dep_delay │\n",
            "│ ---    ┆ ---                    ┆ ---    ┆ ---                             ┆ ---       │\n",
            "│ i64    ┆ str                    ┆ str    ┆ str                             ┆ f64       │\n",
            "╞════════╪════════════════════════╪════════╪═════════════════════════════════╪═══════════╡\n",
            "│ 51     ┆ Hawaiian Airlines Inc. ┆ JFK    ┆ Honolulu Intl                   ┆ 1301.0    │\n",
            "│ 3535   ┆ Envoy Air              ┆ JFK    ┆ Port Columbus Intl              ┆ 1137.0    │\n",
            "│ 3695   ┆ Envoy Air              ┆ EWR    ┆ Chicago Ohare Intl              ┆ 1126.0    │\n",
            "│ 177    ┆ American Airlines Inc. ┆ JFK    ┆ San Francisco Intl              ┆ 1014.0    │\n",
            "│ 3075   ┆ Envoy Air              ┆ JFK    ┆ Cincinnati Northern Kentucky I… ┆ 1005.0    │\n",
            "│ 2391   ┆ Delta Air Lines Inc.   ┆ JFK    ┆ Tampa Intl                      ┆ 960.0     │\n",
            "│ 2119   ┆ Delta Air Lines Inc.   ┆ LGA    ┆ Minneapolis St Paul Intl        ┆ 911.0     │\n",
            "│ 2007   ┆ Delta Air Lines Inc.   ┆ JFK    ┆ Portland Intl                   ┆ 899.0     │\n",
            "│ 2047   ┆ Delta Air Lines Inc.   ┆ LGA    ┆ Hartsfield Jackson Atlanta Int… ┆ 898.0     │\n",
            "│ 172    ┆ American Airlines Inc. ┆ EWR    ┆ Miami Intl                      ┆ 896.0     │\n",
            "└────────┴────────────────────────┴────────┴─────────────────────────────────┴───────────┘\n"
          ]
        }
      ],
      "source": [
        "# Example: Let's implement Exercise 2.1 (average delay by origin) in Polars\n",
        "\n",
        "result_polars = (\n",
        "    flights\n",
        "    .join(airlines, on=\"carrier\", how=\"left\")\n",
        "    .join(airports, left_on=\"dest\", right_on=\"faa\", how=\"left\")\n",
        "    .filter(pl.col(\"dep_delay\") > 60)\n",
        "    .select([\n",
        "        pl.col(\"flight\"),\n",
        "        pl.col(\"name\").alias(\"airline_name\"),\n",
        "        pl.col(\"origin\"),\n",
        "        pl.col(\"name_right\").alias(\"destination_airport\"),\n",
        "        pl.col(\"dep_delay\")\n",
        "    ])\n",
        "    .sort(\"dep_delay\", descending=True)\n",
        "    .head(10)\n",
        ")\n",
        "\n",
        "print(result_polars)"
      ]
    }
  ],
  "metadata": {
    "kernelspec": {
      "display_name": "Python 3",
      "language": "python",
      "name": "python3"
    },
    "language_info": {
      "codemirror_mode": {
        "name": "ipython",
        "version": 3
      },
      "file_extension": ".py",
      "mimetype": "text/x-python",
      "name": "python",
      "nbconvert_exporter": "python",
      "pygments_lexer": "ipython3",
      "version": "3.8.0"
    },
    "colab": {
      "provenance": []
    }
  },
  "nbformat": 4,
  "nbformat_minor": 0
}